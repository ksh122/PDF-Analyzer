{
 "cells": [
  {
   "cell_type": "code",
   "execution_count": 5,
   "metadata": {},
   "outputs": [],
   "source": [
    "# %pip install --upgrade --quiet pypdf\n",
    "# %pip install --upgrade --quiet rapidocr-onnxruntime"
   ]
  },
  {
   "cell_type": "code",
   "execution_count": 12,
   "metadata": {},
   "outputs": [],
   "source": [
    "from langchain_community.document_loaders import PyPDFLoader\n",
    "loader = PyPDFLoader(\"C:/Users/kshit/Downloads/Bahdanau-Attention-Research-Paper.pdf\", extract_images=True)\n",
    "docs = loader.load()"
   ]
  },
  {
   "cell_type": "code",
   "execution_count": 36,
   "metadata": {},
   "outputs": [
    {
     "data": {
      "text/plain": [
       "list"
      ]
     },
     "execution_count": 36,
     "metadata": {},
     "output_type": "execute_result"
    }
   ],
   "source": [
    "type(docs)"
   ]
  },
  {
   "cell_type": "code",
   "execution_count": 37,
   "metadata": {},
   "outputs": [
    {
     "name": "stdout",
     "output_type": "stream",
     "text": [
      "page_content='Published as a conference paper at ICLR 2015\n",
      "NEURAL MACHINE TRANSLATION\n",
      "BY JOINTLY LEARNING TO ALIGN AND TRANSLATE\n",
      "Dzmitry Bahdanau\n",
      "Jacobs University Bremen, Germany\n",
      "KyungHyun Cho Yoshua Bengio ∗\n",
      "Universit´e de Montr´eal\n",
      "ABSTRACT\n",
      "Neural machine translation is a recently proposed approach to machine transla-\n",
      "tion. Unlike the traditional statistical machine translation, the neural machine\n",
      "translation aims at building a single neural network that can be jointly tuned to\n",
      "maximize the translation performance. The models proposed recently for neu-\n",
      "ral machine translation often belong to a family of encoder–decoders and encode\n",
      "a source sentence into a ﬁxed-length vector from which a decoder generates a\n",
      "translation. In this paper, we conjecture that the use of a ﬁxed-length vector is a\n",
      "bottleneck in improving the performance of this basic encoder–decoder architec-\n",
      "ture, and propose to extend this by allowing a model to automatically (soft-)search\n",
      "for parts of a source sentence that are relevant to predicting a target word, without\n",
      "having to form these parts as a hard segment explicitly. With this new approach,\n",
      "we achieve a translation performance comparable to the existing state-of-the-art\n",
      "phrase-based system on the task of English-to-French translation. Furthermore,\n",
      "qualitative analysis reveals that the (soft-)alignments found by the model agree\n",
      "well with our intuition.\n",
      "1 I NTRODUCTION\n",
      "Neural machine translation is a newly emerging approach to machine translation, recently proposed\n",
      "by Kalchbrenner and Blunsom (2013), Sutskever et al. (2014) and Cho et al. (2014b). Unlike the\n",
      "traditional phrase-based translation system (see, e.g., Koehn et al., 2003) which consists of many\n",
      "small sub-components that are tuned separately, neural machine translation attempts to build and\n",
      "train a single, large neural network that reads a sentence and outputs a correct translation.\n",
      "Most of the proposed neural machine translation models belong to a family of encoder–\n",
      "decoders (Sutskever et al., 2014; Cho et al., 2014a), with an encoder and a decoder for each lan-\n",
      "guage, or involve a language-speciﬁc encoder applied to each sentence whose outputs are then com-\n",
      "pared (Hermann and Blunsom, 2014). An encoder neural network reads and encodes a source sen-\n",
      "tence into a ﬁxed-length vector. A decoder then outputs a translation from the encoded vector. The\n",
      "whole encoder–decoder system, which consists of the encoder and the decoder for a language pair,\n",
      "is jointly trained to maximize the probability of a correct translation given a source sentence.\n",
      "A potential issue with this encoder–decoder approach is that a neural network needs to be able to\n",
      "compress all the necessary information of a source sentence into a ﬁxed-length vector. This may\n",
      "make it difﬁcult for the neural network to cope with long sentences, especially those that are longer\n",
      "than the sentences in the training corpus. Cho et al. (2014b) showed that indeed the performance of\n",
      "a basic encoder–decoder deteriorates rapidly as the length of an input sentence increases.\n",
      "In order to address this issue, we introduce an extension to the encoder–decoder model which learns\n",
      "to align and translate jointly. Each time the proposed model generates a word in a translation, it\n",
      "(soft-)searches for a set of positions in a source sentence where the most relevant information is\n",
      "concentrated. The model then predicts a target word based on the context vectors associated with\n",
      "these source positions and all the previous generated target words.\n",
      "∗CIFAR Senior Fellow\n",
      "1\n",
      "arXiv:1409.0473v7  [cs.CL]  19 May 2016' metadata={'source': 'C:/Users/kshit/Downloads/Bahdanau-Attention-Research-Paper.pdf', 'page': 0}\n"
     ]
    }
   ],
   "source": [
    "print(docs[0])"
   ]
  },
  {
   "cell_type": "code",
   "execution_count": 41,
   "metadata": {},
   "outputs": [],
   "source": [
    "# Now here we want to use a text splitter to split the text into chunks\n",
    "\n",
    "from langchain_text_splitters import RecursiveCharacterTextSplitter\n",
    "text_splitters = RecursiveCharacterTextSplitter(\n",
    "    separators=[\n",
    "        \"\\n\\n\",\n",
    "        \"\\n\",\n",
    "        \".\",\n",
    "        \" \"\n",
    "    ],\n",
    "    chunk_size= 400,\n",
    "    chunk_overlap = 20\n",
    ")"
   ]
  },
  {
   "cell_type": "code",
   "execution_count": 42,
   "metadata": {},
   "outputs": [],
   "source": [
    "# Text splitter receives argument as a list\n",
    "\n",
    "doc = text_splitters.split_documents(docs) "
   ]
  },
  {
   "cell_type": "code",
   "execution_count": 44,
   "metadata": {},
   "outputs": [
    {
     "name": "stdout",
     "output_type": "stream",
     "text": [
      "page_content='Published as a conference paper at ICLR 2015\n",
      "NEURAL MACHINE TRANSLATION\n",
      "BY JOINTLY LEARNING TO ALIGN AND TRANSLATE\n",
      "Dzmitry Bahdanau\n",
      "Jacobs University Bremen, Germany\n",
      "KyungHyun Cho Yoshua Bengio ∗\n",
      "Universit´e de Montr´eal\n",
      "ABSTRACT\n",
      "Neural machine translation is a recently proposed approach to machine transla-\n",
      "tion. Unlike the traditional statistical machine translation, the neural machine' metadata={'source': 'C:/Users/kshit/Downloads/Bahdanau-Attention-Research-Paper.pdf', 'page': 0}\n"
     ]
    }
   ],
   "source": [
    "print(doc[0])"
   ]
  },
  {
   "cell_type": "code",
   "execution_count": 45,
   "metadata": {},
   "outputs": [],
   "source": [
    "from langchain_huggingface import HuggingFaceEmbeddings\n",
    "from langchain_community.vectorstores import FAISS\n",
    "\n",
    "embeddings = HuggingFaceEmbeddings()\n",
    "vector_store = FAISS.from_documents(doc, embeddings)"
   ]
  },
  {
   "cell_type": "code",
   "execution_count": 47,
   "metadata": {},
   "outputs": [],
   "source": [
    "from langchain_groq import ChatGroq\n",
    "from langchain.chains import RetrievalQA\n",
    "from langchain_core.vectorstores import VectorStoreRetriever\n",
    "\n",
    "retriever = VectorStoreRetriever(vectorstore= vector_store)\n",
    "# \n",
    "\n",
    "groq_api_key = \"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\"\n",
    "\n",
    "llm = ChatGroq(\n",
    "    api_key= groq_api_key,\n",
    "    model=\"mixtral-8x7b-32768\",\n",
    "    temperature= 0.8,\n",
    "    max_retries= 2\n",
    ")"
   ]
  },
  {
   "cell_type": "code",
   "execution_count": 48,
   "metadata": {},
   "outputs": [],
   "source": [
    "retrievalQA = RetrievalQA.from_llm(llm= llm, retriever = retriever)\n",
    "# we could have used retriever = \"vector_store.as_retriever()\" too"
   ]
  },
  {
   "cell_type": "code",
   "execution_count": 52,
   "metadata": {},
   "outputs": [
    {
     "data": {
      "text/plain": [
       "{'result': \"The core information of the document revolves around the comparison of the translation capabilities of different systems, specifically Google Translate and two RNN (Recurrent Neural Network) models, RNNenc-50 and RNNsearch-50. The text highlights the superior performance of the RNNsearch-50 model in translating a long French sentence into English, as opposed to Google Translate, which made basic mistakes such as leaving out a closing quotation mark.\\n\\nThe French sentence speaks of Disney's initiatives to extend the lifespan of its series and build new relationships with digital audiences through increasingly important online platforms. The RNNsearch-50 model accurately translated the entire sentence, while Google Translate struggled with the task.\\n\\nFurthermore, the text touches upon the concept of machine translation and how it differs from traditional methods. It emphasizes the importance of online platforms for media companies like Disney in fostering connections with newer and more complex digital audiences.\\n\\nIn summary, the central theme of the document is the comparison of machine translation systems, with a particular focus on the RNNsearch-50 model's ability to accurately translate intricate sentences compared to Google Translate. The text also underlines Disney's efforts to expand its series' lifespans and strengthen connections with digital viewers through online platforms.\"}"
      ]
     },
     "execution_count": 52,
     "metadata": {},
     "output_type": "execute_result"
    }
   ],
   "source": [
    "query = \"What is the core information of the document? Provide answer upto 300 words.\"\n",
    "\n",
    "retrievalQA({\"query\" : query}, return_only_outputs= True)"
   ]
  },
  {
   "cell_type": "code",
   "execution_count": null,
   "metadata": {},
   "outputs": [],
   "source": []
  }
 ],
 "metadata": {
  "kernelspec": {
   "display_name": "Python 3",
   "language": "python",
   "name": "python3"
  },
  "language_info": {
   "codemirror_mode": {
    "name": "ipython",
    "version": 3
   },
   "file_extension": ".py",
   "mimetype": "text/x-python",
   "name": "python",
   "nbconvert_exporter": "python",
   "pygments_lexer": "ipython3",
   "version": "3.11.0"
  }
 },
 "nbformat": 4,
 "nbformat_minor": 2
}
